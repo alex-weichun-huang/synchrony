{
 "cells": [
  {
   "cell_type": "markdown",
   "id": "807418c5",
   "metadata": {},
   "source": [
    "This notebook can be used to extract frames from raw drone footage in a systematic way so that the annotation for the training data can be rich and diverse enough to train a robust object detection model."
   ]
  },
  {
   "attachments": {},
   "cell_type": "markdown",
   "id": "053855cc",
   "metadata": {},
   "source": [
    "### Imports"
   ]
  },
  {
   "cell_type": "code",
   "execution_count": 3,
   "id": "82fe8c31",
   "metadata": {},
   "outputs": [],
   "source": [
    "import os\n",
    "import sys\n",
    "import cv2\n",
    "import json\n",
    "import numpy as np\n",
    "\n",
    "sys.path.append(\"..\")\n",
    "from src.labelbox_processing import random_top_left, save_frame"
   ]
  },
  {
   "cell_type": "markdown",
   "id": "5f665d21",
   "metadata": {},
   "source": [
    "### TODO"
   ]
  },
  {
   "cell_type": "code",
   "execution_count": 4,
   "id": "ae9180a2",
   "metadata": {},
   "outputs": [],
   "source": [
    "# fill in the path on your machine\n",
    "videos_folder = \"/data/huanga/Synchrony/videos\" # where the raw training videos are stored\n",
    "frames_folder = \"/data/huanga/Synchrony/frames\" # where the training frames will be saved\n",
    "\n",
    "os.makedirs(videos_folder, exist_ok=True)\n",
    "os.makedirs(frames_folder, exist_ok=True)"
   ]
  },
  {
   "attachments": {},
   "cell_type": "markdown",
   "id": "693696f3",
   "metadata": {},
   "source": [
    "### Get the videos and define extraction rules"
   ]
  },
  {
   "cell_type": "code",
   "execution_count": null,
   "id": "a7b5f815",
   "metadata": {},
   "outputs": [],
   "source": [
    "# get the videos to extract frames from\n",
    "json_file = \"list_videos.json\"\n",
    "with open(json_file) as f:\n",
    "    video_splits = json.load(f)   \n",
    "video_type = \"train\"\n",
    "video_names = video_splits[video_type]\n",
    "\n",
    "\n",
    "min_frame = 0         # minimum frame index to extract\n",
    "max_frame = None      # maximum frame index to extract\n",
    "num_extract = 20      # number of frames to extract and save\n",
    "save_triplet = True   # save triplet of frames around focal frame\n",
    "triplet_spacing = 30  # number of frames between focal frame and triplet frames\n",
    "crop_size = 1000      # Either none for whole image or size in pixels (square crops)\n",
    "save_folder = os.path.join(frames_folder, video_type)   # folder to save frames"
   ]
  },
  {
   "attachments": {},
   "cell_type": "markdown",
   "id": "1bfb986a",
   "metadata": {},
   "source": [
    "### Extract frames from videos"
   ]
  },
  {
   "cell_type": "code",
   "execution_count": null,
   "id": "0c8ab9cb",
   "metadata": {},
   "outputs": [],
   "source": [
    "# extract frames from each video\n",
    "for video_name in video_names:\n",
    "\n",
    "    # get the properties of the video\n",
    "    video_file = os.path.join(videos_folder, video_name)\n",
    "    video_name = os.path.splitext(video_name)[0] \n",
    "    cap = cv2.VideoCapture(video_file)\n",
    "    width  = int(cap.get(cv2.CAP_PROP_FRAME_WIDTH))\n",
    "    height = int(cap.get(cv2.CAP_PROP_FRAME_HEIGHT))\n",
    "    max_frame = int(cap.get(cv2.CAP_PROP_FRAME_COUNT)) + 1\n",
    "    if save_triplet:\n",
    "        max_frame -= triplet_spacing\n",
    "        min_frame += triplet_spacing\n",
    "    \n",
    "    # Randomly choose the specified number of frames to extract from the given range\n",
    "    frame_nums_to_save = np.random.randint(min_frame, max_frame, num_extract)\n",
    "    for frame_num in frame_nums_to_save:\n",
    "        \n",
    "        # handle file naming\n",
    "        frame_file = os.path.join(save_folder, f\"{video_name}_frame_{frame_num}\")\n",
    "        if crop_size:\n",
    "            top_left = random_top_left([height, width], crop_size, gaussian=True)\n",
    "            frame_file += f\"_top_{top_left[0]}_left_{top_left[1]}\"\n",
    "        \n",
    "        # 1) append an 'f' to the file name if the frame is the focal frame\n",
    "        save_frame(cap, frame_num, frame_file+\"_f.jpg\", crop_size, top_left)\n",
    "        if save_triplet:\n",
    "            \n",
    "            # 2) append an 'a' to the file name if the frame is the next frame in the triplet\n",
    "            next_frame_num = frame_num + triplet_spacing\n",
    "            frame_file = os.path.join(save_folder, f\"{video_name}_frame_{frame_num}\")\n",
    "            if crop_size:\n",
    "                frame_file += f\"_top_{top_left[0]}_left_{top_left[1]}\"\n",
    "            save_frame(cap, next_frame_num, frame_file+\"_a.jpg\", crop_size, top_left)\n",
    "            \n",
    "            # 3) append a 'b' to the file name if the frame is the previous frame in the triplet\n",
    "            prev_frame_num = frame_num - triplet_spacing \n",
    "            frame_file = os.path.join(save_folder, f\"{video_name}_frame_{frame_num}\")\n",
    "            if crop_size:\n",
    "                frame_file += f\"_top_{top_left[0]}_left_{top_left[1]}\"\n",
    "            save_frame(cap, prev_frame_num, frame_file+\"_b.jpg\",crop_size, top_left)\n",
    "    cap.release()"
   ]
  }
 ],
 "metadata": {
  "kernelspec": {
   "display_name": "synchrony",
   "language": "python",
   "name": "python3"
  },
  "language_info": {
   "codemirror_mode": {
    "name": "ipython",
    "version": 3
   },
   "file_extension": ".py",
   "mimetype": "text/x-python",
   "name": "python",
   "nbconvert_exporter": "python",
   "pygments_lexer": "ipython3",
   "version": "3.9.19"
  },
  "vscode": {
   "interpreter": {
    "hash": "ff5f5c626ef898f571b3a51785f9507607b399bc69b0d88220327faefffb4d5c"
   }
  }
 },
 "nbformat": 4,
 "nbformat_minor": 5
}

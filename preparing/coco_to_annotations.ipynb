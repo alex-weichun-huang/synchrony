{
 "cells": [
  {
   "cell_type": "markdown",
   "metadata": {},
   "source": [
    "This notebook can be used to combine all the COCO format annotations you have into one file, and then split them into a train set and a test set for model training and evaluation."
   ]
  },
  {
   "attachments": {},
   "cell_type": "markdown",
   "metadata": {},
   "source": [
    "### Imports"
   ]
  },
  {
   "cell_type": "code",
   "execution_count": 6,
   "metadata": {},
   "outputs": [],
   "source": [
    "import os\n",
    "import sys\n",
    "import json\n",
    "\n",
    "sys.path.append('..')\n",
    "from src.json_functions import combine_jsons, create_train_val_split"
   ]
  },
  {
   "cell_type": "markdown",
   "metadata": {},
   "source": [
    "### TODO"
   ]
  },
  {
   "cell_type": "code",
   "execution_count": 7,
   "metadata": {},
   "outputs": [],
   "source": [
    "# fill in the path on your machine\n",
    "annotations_folder = \"/data/huanga/Synchrony/annotations\" # path to the folder containing the annotations\n",
    "\n",
    "os.makedirs(annotations_folder, exist_ok=True)"
   ]
  },
  {
   "attachments": {},
   "cell_type": "markdown",
   "metadata": {},
   "source": [
    "### Combine multiple annotations to one"
   ]
  },
  {
   "cell_type": "code",
   "execution_count": 5,
   "metadata": {},
   "outputs": [
    {
     "name": "stdout",
     "output_type": "stream",
     "text": [
      "/home/whuang288/data/annotations2/coco_drone_export-2023-05-28T22_52_44.411Z.json\n",
      "/home/whuang288/data/annotations2/coco_drone_export-2023-05-28T22_57_15.599Z.json\n",
      "/home/whuang288/data/annotations2/coco_drone_export-2023-05-28T22_54_52.134Z.json\n",
      "/home/whuang288/data/annotations2/coco_drone_export-2023-05-28T22_51_04.704Z.json\n",
      "/home/whuang288/data/annotations2/coco_drone_export-2023-05-28T22_54_09.852Z.json\n",
      "/home/whuang288/data/annotations2/coco_drone_export-2023-05-28T22_51_31.614Z.json\n",
      "There are 163 annotated images in the JSON files.\n",
      "163 images added to new .json\n",
      "65800 annotations added to new .json\n"
     ]
    }
   ],
   "source": [
    "# The name of the created json file will be based on the name of labelbox file\n",
    "coco_files = [os.path.join(annotations_folder, file_name) for file_name in os.listdir(annotations_folder) if \"coco_drone_export\" in file_name]\n",
    "out_file = os.path.join(annotations_folder , 'all_annotations.json')\n",
    "combine_jsons(coco_files, out_file)"
   ]
  },
  {
   "attachments": {},
   "cell_type": "markdown",
   "metadata": {},
   "source": [
    "### Split the annotations to train and val"
   ]
  },
  {
   "cell_type": "code",
   "execution_count": 12,
   "metadata": {},
   "outputs": [
    {
     "name": "stdout",
     "output_type": "stream",
     "text": [
      "dict_keys(['info', 'licenses', 'images', 'annotations', 'categories'])\n"
     ]
    }
   ],
   "source": [
    "out_file_name = os.path.join(annotations_folder , 'cleaned_annotations.json')\n",
    "out_file = json.load(open(out_file_name))\n",
    "print(out_file.keys())"
   ]
  },
  {
   "cell_type": "code",
   "execution_count": 13,
   "metadata": {},
   "outputs": [
    {
     "name": "stdout",
     "output_type": "stream",
     "text": [
      "There are 163 annotated images.\n",
      "130 training images with 33086 annotations.\n",
      "33 validation images with 8416 annotations.\n"
     ]
    }
   ],
   "source": [
    "fraction_val = .2\n",
    "create_train_val_split(out_file_name, fraction_val, train_name=\"train.json\",val_name=\"val.json\")"
   ]
  }
 ],
 "metadata": {
  "kernelspec": {
   "display_name": "synchrony",
   "language": "python",
   "name": "python3"
  },
  "language_info": {
   "codemirror_mode": {
    "name": "ipython",
    "version": 3
   },
   "file_extension": ".py",
   "mimetype": "text/x-python",
   "name": "python",
   "nbconvert_exporter": "python",
   "pygments_lexer": "ipython3",
   "version": "3.9.19"
  },
  "vscode": {
   "interpreter": {
    "hash": "ff5f5c626ef898f571b3a51785f9507607b399bc69b0d88220327faefffb4d5c"
   }
  }
 },
 "nbformat": 4,
 "nbformat_minor": 4
}

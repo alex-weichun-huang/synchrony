{
 "cells": [
  {
   "cell_type": "markdown",
   "id": "30a51f2e",
   "metadata": {},
   "source": [
    "This notebook can be used to extract the frames from the videos that you are interested in analyzing. In our case, we identify times in the drone footage where the band was doing the same movements at time 1 and time 2 and noted those time frames. We also did some pre-processing to trim the raw drone footage into shorter video clips so that it takes less time to run through the rest of the pipeline. Some useful code can be found <a href=\"https://stackoverflow.com/questions/37317140/how-can-i-efficiently-cut-out-part-of-a-video\"> here </a>."
   ]
  },
  {
   "cell_type": "markdown",
   "id": "12eff343",
   "metadata": {},
   "source": [
    "### Imports"
   ]
  },
  {
   "cell_type": "code",
   "execution_count": 1,
   "id": "bf64d50b",
   "metadata": {},
   "outputs": [],
   "source": [
    "import os\n",
    "import cv2"
   ]
  },
  {
   "cell_type": "markdown",
   "id": "0460bf03",
   "metadata": {},
   "source": [
    "### TODO"
   ]
  },
  {
   "cell_type": "code",
   "execution_count": 2,
   "id": "74e06940",
   "metadata": {},
   "outputs": [],
   "source": [
    "# fill in the path on your machine\n",
    "output_folder = \"/data/huanga/Synchrony/frames\"\n",
    "videos = [ \n",
    "    # the videos to process\n",
    "    \"/data/huanga/Synchrony/videos/vid_13.mp4\",\n",
    "    \"/data/huanga/Synchrony/videos/vid_14.mp4\",\n",
    "    \"/data/huanga/Synchrony/videos/vid_13_14.mp4\",\n",
    "]"
   ]
  },
  {
   "cell_type": "markdown",
   "id": "1bd2790a",
   "metadata": {},
   "source": [
    "### Extract frames from videos"
   ]
  },
  {
   "cell_type": "code",
   "execution_count": 3,
   "id": "c79b2200",
   "metadata": {},
   "outputs": [
    {
     "name": "stdout",
     "output_type": "stream",
     "text": [
      "Processing video:  /data/huanga/Synchrony/videos/vid_13.mp4\n",
      "Error from frame 630\n",
      "Got 630 frames from /data/huanga/Synchrony/videos/vid_13.mp4\n",
      "\n",
      "Processing video:  /data/huanga/Synchrony/videos/vid_14.mp4\n",
      "Error from frame 540\n",
      "Got 540 frames from /data/huanga/Synchrony/videos/vid_14.mp4\n",
      "\n",
      "Processing video:  /data/huanga/Synchrony/videos/vid_13_14.mp4\n",
      "Error from frame 1142\n",
      "Got 1142 frames from /data/huanga/Synchrony/videos/vid_13_14.mp4\n",
      "\n"
     ]
    }
   ],
   "source": [
    "for video in videos:\n",
    "    print(\"Processing video: \", video)      \n",
    "    video_name = os.path.basename(video).split('.')[0]\n",
    "    \n",
    "    # folder to store the frames\n",
    "    this_vid_folder =  os.path.join(output_folder, video_name) \n",
    "    os.makedirs(this_vid_folder, exist_ok=True)\n",
    "    \n",
    "    # read the video and save the frames\n",
    "    num_frames = 0\n",
    "    success = True\n",
    "    vid = cv2.VideoCapture(video)\n",
    "    fps = vid.get(cv2.CAP_PROP_FPS)\n",
    "    while success:\n",
    "        success, image = vid.read()\n",
    "        num_frames  += 1\n",
    "        try:\n",
    "            cv2.imwrite(os.path.join(this_vid_folder , f\"frame_{num_frames:04d}.jpg\"), image)\n",
    "        except:\n",
    "            print(\"Error from frame\", num_frames)\n",
    "            continue\n",
    "    print(f\"Got {num_frames} frames from {video}\\n\")      "
   ]
  }
 ],
 "metadata": {
  "kernelspec": {
   "display_name": "Python 3 (ipykernel)",
   "language": "python",
   "name": "python3"
  },
  "language_info": {
   "codemirror_mode": {
    "name": "ipython",
    "version": 3
   },
   "file_extension": ".py",
   "mimetype": "text/x-python",
   "name": "python",
   "nbconvert_exporter": "python",
   "pygments_lexer": "ipython3",
   "version": "3.9.19"
  }
 },
 "nbformat": 4,
 "nbformat_minor": 5
}
